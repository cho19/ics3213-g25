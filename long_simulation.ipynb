{
 "cells": [
  {
   "cell_type": "code",
   "execution_count": 1,
   "metadata": {},
   "outputs": [],
   "source": [
    "import pandas as pd\n",
    "import os\n",
    "\n",
    "from programs import LongSimulator"
   ]
  },
  {
   "cell_type": "code",
   "execution_count": 2,
   "metadata": {},
   "outputs": [],
   "source": [
    "TRUCKS_PATH = 'trucks.csv'\n",
    "ITERATIONS = 1000"
   ]
  },
  {
   "cell_type": "code",
   "execution_count": 3,
   "metadata": {},
   "outputs": [],
   "source": [
    "def pretty_day(day_idx):\n",
    "    return {\n",
    "        0: 'Lunes',\n",
    "        1: 'Martes',\n",
    "        2: 'Miércoles',\n",
    "        3: 'Jueves',\n",
    "        4: 'Viernes'\n",
    "    }[day_idx]\n",
    "\n",
    "def simulate_day(routes_path, day):\n",
    "    simulator = LongSimulator(str(day), routes_path, TRUCKS_PATH, iterations=ITERATIONS)\n",
    "    df = pd.DataFrame(simulator.run()).drop('simulation_id', axis=1)\n",
    "    df['day'] = pretty_day(day)\n",
    "    df['day_id'] = day\n",
    "    return df\n",
    "\n",
    "\n",
    "grouped = ['day_id', 'day', 'truck']\n",
    "\n",
    "def simulate_days(routes_path):\n",
    "    df = pd.DataFrame()\n",
    "    \n",
    "    for i in range(5):\n",
    "        df = df.append(simulate_day(routes_path, i))\n",
    "\n",
    "    return df\n",
    "    \n",
    "def get_summaries(df):\n",
    "    final_df = pd.DataFrame()\n",
    "    groupby = df.groupby(grouped)\n",
    "    \n",
    "    for column in filter(lambda col: col not in grouped, df.columns):\n",
    "        aux_df = pd.DataFrame()\n",
    "        \n",
    "        aux_df['mean'] = groupby[column].mean()\n",
    "        aux_df['std'] = groupby[column].std()\n",
    "        aux_df['kpi'] = column\n",
    "        aux_df = aux_df.reset_index()\n",
    "        \n",
    "        final_df = final_df.append(aux_df)\n",
    "        \n",
    "    final_df = final_df.set_index(['kpi', *grouped]).sort_index()\n",
    "    return final_df.reset_index(level=1, drop=True)\n",
    "\n",
    "def get_trips(df):\n",
    "    groupby = df.groupby(grouped)\n",
    "\n",
    "    final_df = pd.DataFrame()\n",
    "    final_df['mean'] = groupby['trips'].mean()\n",
    "    final_df['std'] = groupby['trips'].std()\n",
    "    final_df = final_df.reset_index()\n",
    "\n",
    "    final_df = final_df.set_index(grouped).sort_index()\n",
    "    return final_df.reset_index(level=1, drop=True)"
   ]
  },
  {
   "cell_type": "code",
   "execution_count": 4,
   "metadata": {},
   "outputs": [],
   "source": [
    "outdirs = ['./results/original', './results/optimal']\n",
    "\n",
    "for outdir in outdirs:\n",
    "    if not os.path.exists(outdir):\n",
    "        os.mkdir(outdir)"
   ]
  },
  {
   "cell_type": "code",
   "execution_count": 5,
   "metadata": {},
   "outputs": [],
   "source": [
    "original = simulate_days('original_routes.csv')\n",
    "\n",
    "get_summaries(original).to_csv('./results/original/simulation_summary.csv')\n",
    "get_trips(original).to_csv('./results/original/trip_summary.csv')"
   ]
  },
  {
   "cell_type": "code",
   "execution_count": 6,
   "metadata": {},
   "outputs": [],
   "source": [
    "optimal = simulate_days('optimal_routes.csv')\n",
    "\n",
    "get_summaries(optimal).to_csv('./results/optimal/simulation_summary.csv')\n",
    "get_trips(optimal).to_csv('./results/optimal/trip_summary.csv')"
   ]
  }
 ],
 "metadata": {
  "kernelspec": {
   "display_name": "Python 3",
   "language": "python",
   "name": "python3"
  },
  "language_info": {
   "codemirror_mode": {
    "name": "ipython",
    "version": 3
   },
   "file_extension": ".py",
   "mimetype": "text/x-python",
   "name": "python",
   "nbconvert_exporter": "python",
   "pygments_lexer": "ipython3",
   "version": "3.8.3"
  }
 },
 "nbformat": 4,
 "nbformat_minor": 4
}
